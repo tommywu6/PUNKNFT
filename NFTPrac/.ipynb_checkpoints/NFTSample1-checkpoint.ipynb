{
 "cells": [
  {
   "cell_type": "code",
   "execution_count": 1,
   "metadata": {},
   "outputs": [],
   "source": [
    "from PIL import Image \n",
    "from IPython.display import display \n",
    "import random \n",
    "import json \n",
    "import os\n"
   ]
  },
  {
   "cell_type": "code",
   "execution_count": 2,
   "metadata": {},
   "outputs": [],
   "source": [
    "face = [\"White\", \"Black\"] \n",
    "face_weights = [60, 40]\n",
    "\n",
    "ears = [\"ears1\", \"ears2\", \"ears3\", \"ears4\"] \n",
    "ears_weights = [25, 30, 44, 1]\n",
    "\n",
    "eyes = [\"regular\", \"small\", \"rayban\", \"hipster\", \"focused\"] \n",
    "eyes_weights = [70, 10, 5, 1, 14]\n",
    "\n",
    "hair = ['hair1', 'hair10', 'hair11', 'hair12', 'hair2', 'hair3', 'hair4', 'hair5', 'hair6', 'hair7', 'hair8', 'hair9'] \n",
    "hair_weights = [10, 10, 10, 10, 10, 10, 10, 10, 10, 7, 1, 2]\n",
    "\n",
    "mouth = ['m1', 'm2', 'm3', 'm4', 'm5', 'm6'] \n",
    "mouth_weights = [10, 10, 50, 10, 15, 5]\n",
    "\n",
    "nose = ['n1', 'n2'] \n",
    "nose_weights = [90, 10] \n",
    "\n",
    "face_files = { \"White\": \"face1\", \"Black\": \"face2\" }\n",
    "\n",
    "ears_files = { \"ears1\": \"ears1\", \"ears2\": \"ears2\", \"ears3\": \"ears3\", \"ears4\": \"ears4\" }\n",
    "\n",
    "eyes_files = { \"regular\": \"eyes1\", \"small\": \"eyes2\", \"rayban\": \"eyes3\", \"hipster\": \"eyes4\", \"focused\": \"eyes5\"}\n",
    "\n",
    "hair_files = { \"hair1\": \"hair1\", \"hair2\": \"hair2\", \"hair3\": \"hair3\", \"hair4\": \"hair4\", \"hair5\": \"hair5\", \"hair6\": \"hair6\", \"hair7\": \"hair7\", \"hair8\": \"hair8\", \"hair9\": \"hair9\", \"hair10\": \"hair10\", \"hair11\": \"hair11\", \"hair12\": \"hair12\" }\n",
    "\n",
    "mouth_files = { \"m1\": \"m1\", \"m2\": \"m2\", \"m3\": \"m3\", \"m4\": \"m4\", \"m5\": \"m5\", \"m6\": \"m6\" }\n",
    "\n",
    "nose_files = { \"n1\": \"n1\", \"n2\": \"n2\"} \n"
   ]
  },
  {
   "cell_type": "code",
   "execution_count": 3,
   "metadata": {},
   "outputs": [],
   "source": [
    "TOTAL_IMAGES = 100 # 生成的圖片數量 \n",
    "all_images = []\n",
    "\n",
    "def create_new_image(): \n",
    "    new_image = {} # 對每一個特徵組，根據權重選擇一個隨機的特徵 \n",
    "    new_image[\"Face\"] = random.choices(face, face_weights)[0] \n",
    "    new_image[\"Ears\"] = random.choices(ears, ears_weights)[0] \n",
    "    new_image[\"Eyes\"] = random.choices(eyes, eyes_weights)[0] \n",
    "    new_image[\"Hair\"] = random.choices(hair, hair_weights)[0] \n",
    "    new_image[\"Mouth\"] = random.choices(mouth, mouth_weights)[0] \n",
    "    new_image[\"Nose\"] = random.choices(nose, nose_weights)[0]\n",
    "    if new_image in all_images:\n",
    "        return create_new_image()\n",
    "    else:\n",
    "        return new_image\n",
    "    \n"
   ]
  },
  {
   "cell_type": "code",
   "execution_count": 4,
   "metadata": {},
   "outputs": [],
   "source": [
    "for i in range(TOTAL_IMAGES): \n",
    "    new_trait_image = create_new_image() \n",
    "    all_images.append(new_trait_image) \n",
    "    \n",
    "def all_images_unique(all_images): \n",
    "    seen = list() \n",
    "    return not any(i in seen or seen.append(i) for i in all_images)\n",
    "\n"
   ]
  },
  {
   "cell_type": "code",
   "execution_count": 5,
   "metadata": {},
   "outputs": [
    {
     "name": "stdout",
     "output_type": "stream",
     "text": [
      "[{'Face': 'White', 'Ears': 'ears3', 'Eyes': 'regular', 'Hair': 'hair8', 'Mouth': 'm3', 'Nose': 'n1', 'tokenId': 0}, {'Face': 'White', 'Ears': 'ears2', 'Eyes': 'regular', 'Hair': 'hair7', 'Mouth': 'm3', 'Nose': 'n1', 'tokenId': 0}, {'Face': 'Black', 'Ears': 'ears1', 'Eyes': 'regular', 'Hair': 'hair3', 'Mouth': 'm3', 'Nose': 'n1', 'tokenId': 0}, {'Face': 'White', 'Ears': 'ears3', 'Eyes': 'regular', 'Hair': 'hair12', 'Mouth': 'm3', 'Nose': 'n1', 'tokenId': 0}, {'Face': 'Black', 'Ears': 'ears2', 'Eyes': 'regular', 'Hair': 'hair3', 'Mouth': 'm3', 'Nose': 'n1', 'tokenId': 0}, {'Face': 'Black', 'Ears': 'ears3', 'Eyes': 'regular', 'Hair': 'hair2', 'Mouth': 'm4', 'Nose': 'n1', 'tokenId': 0}, {'Face': 'White', 'Ears': 'ears2', 'Eyes': 'regular', 'Hair': 'hair6', 'Mouth': 'm6', 'Nose': 'n1', 'tokenId': 0}, {'Face': 'White', 'Ears': 'ears2', 'Eyes': 'regular', 'Hair': 'hair5', 'Mouth': 'm3', 'Nose': 'n1', 'tokenId': 0}, {'Face': 'Black', 'Ears': 'ears3', 'Eyes': 'regular', 'Hair': 'hair12', 'Mouth': 'm4', 'Nose': 'n1', 'tokenId': 0}, {'Face': 'Black', 'Ears': 'ears3', 'Eyes': 'regular', 'Hair': 'hair11', 'Mouth': 'm3', 'Nose': 'n1', 'tokenId': 0}, {'Face': 'White', 'Ears': 'ears2', 'Eyes': 'focused', 'Hair': 'hair10', 'Mouth': 'm3', 'Nose': 'n1', 'tokenId': 0}, {'Face': 'Black', 'Ears': 'ears1', 'Eyes': 'focused', 'Hair': 'hair10', 'Mouth': 'm3', 'Nose': 'n1', 'tokenId': 0}, {'Face': 'White', 'Ears': 'ears1', 'Eyes': 'regular', 'Hair': 'hair2', 'Mouth': 'm2', 'Nose': 'n1', 'tokenId': 0}, {'Face': 'Black', 'Ears': 'ears3', 'Eyes': 'focused', 'Hair': 'hair11', 'Mouth': 'm4', 'Nose': 'n2', 'tokenId': 0}, {'Face': 'Black', 'Ears': 'ears2', 'Eyes': 'small', 'Hair': 'hair5', 'Mouth': 'm1', 'Nose': 'n1', 'tokenId': 0}, {'Face': 'White', 'Ears': 'ears2', 'Eyes': 'regular', 'Hair': 'hair12', 'Mouth': 'm3', 'Nose': 'n1', 'tokenId': 0}, {'Face': 'Black', 'Ears': 'ears3', 'Eyes': 'small', 'Hair': 'hair12', 'Mouth': 'm2', 'Nose': 'n1', 'tokenId': 0}, {'Face': 'White', 'Ears': 'ears2', 'Eyes': 'regular', 'Hair': 'hair5', 'Mouth': 'm4', 'Nose': 'n1', 'tokenId': 0}, {'Face': 'Black', 'Ears': 'ears3', 'Eyes': 'regular', 'Hair': 'hair1', 'Mouth': 'm5', 'Nose': 'n1', 'tokenId': 0}, {'Face': 'White', 'Ears': 'ears2', 'Eyes': 'small', 'Hair': 'hair12', 'Mouth': 'm5', 'Nose': 'n1', 'tokenId': 0}, {'Face': 'Black', 'Ears': 'ears1', 'Eyes': 'regular', 'Hair': 'hair12', 'Mouth': 'm5', 'Nose': 'n1', 'tokenId': 0}, {'Face': 'White', 'Ears': 'ears1', 'Eyes': 'regular', 'Hair': 'hair3', 'Mouth': 'm3', 'Nose': 'n1', 'tokenId': 0}, {'Face': 'Black', 'Ears': 'ears3', 'Eyes': 'regular', 'Hair': 'hair5', 'Mouth': 'm1', 'Nose': 'n1', 'tokenId': 0}, {'Face': 'White', 'Ears': 'ears3', 'Eyes': 'regular', 'Hair': 'hair5', 'Mouth': 'm5', 'Nose': 'n1', 'tokenId': 0}, {'Face': 'White', 'Ears': 'ears2', 'Eyes': 'small', 'Hair': 'hair10', 'Mouth': 'm6', 'Nose': 'n1', 'tokenId': 0}, {'Face': 'White', 'Ears': 'ears2', 'Eyes': 'regular', 'Hair': 'hair10', 'Mouth': 'm5', 'Nose': 'n1', 'tokenId': 0}, {'Face': 'White', 'Ears': 'ears3', 'Eyes': 'regular', 'Hair': 'hair10', 'Mouth': 'm1', 'Nose': 'n1', 'tokenId': 0}, {'Face': 'White', 'Ears': 'ears2', 'Eyes': 'regular', 'Hair': 'hair9', 'Mouth': 'm3', 'Nose': 'n1', 'tokenId': 0}, {'Face': 'Black', 'Ears': 'ears3', 'Eyes': 'regular', 'Hair': 'hair9', 'Mouth': 'm5', 'Nose': 'n1', 'tokenId': 0}, {'Face': 'White', 'Ears': 'ears3', 'Eyes': 'regular', 'Hair': 'hair10', 'Mouth': 'm3', 'Nose': 'n1', 'tokenId': 0}, {'Face': 'Black', 'Ears': 'ears3', 'Eyes': 'regular', 'Hair': 'hair12', 'Mouth': 'm5', 'Nose': 'n1', 'tokenId': 0}, {'Face': 'White', 'Ears': 'ears2', 'Eyes': 'regular', 'Hair': 'hair4', 'Mouth': 'm2', 'Nose': 'n2', 'tokenId': 0}, {'Face': 'White', 'Ears': 'ears2', 'Eyes': 'regular', 'Hair': 'hair3', 'Mouth': 'm3', 'Nose': 'n1', 'tokenId': 0}, {'Face': 'White', 'Ears': 'ears1', 'Eyes': 'regular', 'Hair': 'hair11', 'Mouth': 'm5', 'Nose': 'n1', 'tokenId': 0}, {'Face': 'White', 'Ears': 'ears1', 'Eyes': 'regular', 'Hair': 'hair1', 'Mouth': 'm2', 'Nose': 'n1', 'tokenId': 0}, {'Face': 'White', 'Ears': 'ears2', 'Eyes': 'regular', 'Hair': 'hair3', 'Mouth': 'm6', 'Nose': 'n1', 'tokenId': 0}, {'Face': 'Black', 'Ears': 'ears2', 'Eyes': 'small', 'Hair': 'hair2', 'Mouth': 'm3', 'Nose': 'n1', 'tokenId': 0}, {'Face': 'White', 'Ears': 'ears3', 'Eyes': 'regular', 'Hair': 'hair12', 'Mouth': 'm2', 'Nose': 'n1', 'tokenId': 0}, {'Face': 'Black', 'Ears': 'ears2', 'Eyes': 'regular', 'Hair': 'hair1', 'Mouth': 'm3', 'Nose': 'n1', 'tokenId': 0}, {'Face': 'Black', 'Ears': 'ears2', 'Eyes': 'focused', 'Hair': 'hair9', 'Mouth': 'm3', 'Nose': 'n1', 'tokenId': 0}, {'Face': 'White', 'Ears': 'ears3', 'Eyes': 'regular', 'Hair': 'hair1', 'Mouth': 'm4', 'Nose': 'n1', 'tokenId': 0}, {'Face': 'Black', 'Ears': 'ears3', 'Eyes': 'regular', 'Hair': 'hair4', 'Mouth': 'm2', 'Nose': 'n1', 'tokenId': 0}, {'Face': 'White', 'Ears': 'ears3', 'Eyes': 'regular', 'Hair': 'hair5', 'Mouth': 'm3', 'Nose': 'n1', 'tokenId': 0}, {'Face': 'Black', 'Ears': 'ears3', 'Eyes': 'focused', 'Hair': 'hair10', 'Mouth': 'm3', 'Nose': 'n1', 'tokenId': 0}, {'Face': 'White', 'Ears': 'ears2', 'Eyes': 'regular', 'Hair': 'hair6', 'Mouth': 'm1', 'Nose': 'n1', 'tokenId': 0}, {'Face': 'Black', 'Ears': 'ears3', 'Eyes': 'regular', 'Hair': 'hair7', 'Mouth': 'm3', 'Nose': 'n1', 'tokenId': 0}, {'Face': 'White', 'Ears': 'ears3', 'Eyes': 'regular', 'Hair': 'hair1', 'Mouth': 'm5', 'Nose': 'n1', 'tokenId': 0}, {'Face': 'Black', 'Ears': 'ears2', 'Eyes': 'regular', 'Hair': 'hair2', 'Mouth': 'm5', 'Nose': 'n1', 'tokenId': 0}, {'Face': 'White', 'Ears': 'ears1', 'Eyes': 'small', 'Hair': 'hair7', 'Mouth': 'm1', 'Nose': 'n1', 'tokenId': 0}, {'Face': 'White', 'Ears': 'ears3', 'Eyes': 'focused', 'Hair': 'hair10', 'Mouth': 'm2', 'Nose': 'n1', 'tokenId': 0}, {'Face': 'White', 'Ears': 'ears3', 'Eyes': 'regular', 'Hair': 'hair10', 'Mouth': 'm4', 'Nose': 'n1', 'tokenId': 0}, {'Face': 'White', 'Ears': 'ears2', 'Eyes': 'regular', 'Hair': 'hair1', 'Mouth': 'm3', 'Nose': 'n2', 'tokenId': 0}, {'Face': 'Black', 'Ears': 'ears1', 'Eyes': 'regular', 'Hair': 'hair2', 'Mouth': 'm5', 'Nose': 'n1', 'tokenId': 0}, {'Face': 'Black', 'Ears': 'ears3', 'Eyes': 'regular', 'Hair': 'hair3', 'Mouth': 'm5', 'Nose': 'n1', 'tokenId': 0}, {'Face': 'White', 'Ears': 'ears3', 'Eyes': 'regular', 'Hair': 'hair10', 'Mouth': 'm2', 'Nose': 'n1', 'tokenId': 0}, {'Face': 'White', 'Ears': 'ears2', 'Eyes': 'small', 'Hair': 'hair11', 'Mouth': 'm3', 'Nose': 'n1', 'tokenId': 0}, {'Face': 'Black', 'Ears': 'ears2', 'Eyes': 'regular', 'Hair': 'hair2', 'Mouth': 'm3', 'Nose': 'n1', 'tokenId': 0}, {'Face': 'White', 'Ears': 'ears1', 'Eyes': 'regular', 'Hair': 'hair5', 'Mouth': 'm6', 'Nose': 'n1', 'tokenId': 0}, {'Face': 'White', 'Ears': 'ears3', 'Eyes': 'focused', 'Hair': 'hair6', 'Mouth': 'm3', 'Nose': 'n1', 'tokenId': 0}, {'Face': 'White', 'Ears': 'ears2', 'Eyes': 'focused', 'Hair': 'hair10', 'Mouth': 'm5', 'Nose': 'n1', 'tokenId': 0}, {'Face': 'White', 'Ears': 'ears1', 'Eyes': 'regular', 'Hair': 'hair6', 'Mouth': 'm3', 'Nose': 'n1', 'tokenId': 0}, {'Face': 'Black', 'Ears': 'ears3', 'Eyes': 'regular', 'Hair': 'hair2', 'Mouth': 'm5', 'Nose': 'n1', 'tokenId': 0}, {'Face': 'Black', 'Ears': 'ears3', 'Eyes': 'regular', 'Hair': 'hair12', 'Mouth': 'm3', 'Nose': 'n1', 'tokenId': 0}, {'Face': 'Black', 'Ears': 'ears1', 'Eyes': 'regular', 'Hair': 'hair5', 'Mouth': 'm6', 'Nose': 'n1', 'tokenId': 0}, {'Face': 'White', 'Ears': 'ears4', 'Eyes': 'regular', 'Hair': 'hair3', 'Mouth': 'm5', 'Nose': 'n1', 'tokenId': 0}, {'Face': 'Black', 'Ears': 'ears3', 'Eyes': 'focused', 'Hair': 'hair5', 'Mouth': 'm3', 'Nose': 'n1', 'tokenId': 0}, {'Face': 'Black', 'Ears': 'ears3', 'Eyes': 'regular', 'Hair': 'hair2', 'Mouth': 'm5', 'Nose': 'n2', 'tokenId': 0}, {'Face': 'White', 'Ears': 'ears3', 'Eyes': 'regular', 'Hair': 'hair1', 'Mouth': 'm2', 'Nose': 'n1', 'tokenId': 0}, {'Face': 'White', 'Ears': 'ears3', 'Eyes': 'focused', 'Hair': 'hair5', 'Mouth': 'm5', 'Nose': 'n1', 'tokenId': 0}, {'Face': 'Black', 'Ears': 'ears3', 'Eyes': 'regular', 'Hair': 'hair4', 'Mouth': 'm3', 'Nose': 'n2', 'tokenId': 0}, {'Face': 'White', 'Ears': 'ears1', 'Eyes': 'regular', 'Hair': 'hair1', 'Mouth': 'm5', 'Nose': 'n1', 'tokenId': 0}, {'Face': 'White', 'Ears': 'ears2', 'Eyes': 'regular', 'Hair': 'hair1', 'Mouth': 'm1', 'Nose': 'n1', 'tokenId': 0}, {'Face': 'Black', 'Ears': 'ears1', 'Eyes': 'regular', 'Hair': 'hair1', 'Mouth': 'm2', 'Nose': 'n1', 'tokenId': 0}, {'Face': 'Black', 'Ears': 'ears1', 'Eyes': 'focused', 'Hair': 'hair10', 'Mouth': 'm1', 'Nose': 'n1', 'tokenId': 0}, {'Face': 'White', 'Ears': 'ears2', 'Eyes': 'regular', 'Hair': 'hair12', 'Mouth': 'm5', 'Nose': 'n1', 'tokenId': 0}, {'Face': 'Black', 'Ears': 'ears3', 'Eyes': 'hipster', 'Hair': 'hair10', 'Mouth': 'm3', 'Nose': 'n1', 'tokenId': 0}, {'Face': 'White', 'Ears': 'ears3', 'Eyes': 'small', 'Hair': 'hair1', 'Mouth': 'm5', 'Nose': 'n1', 'tokenId': 0}, {'Face': 'Black', 'Ears': 'ears3', 'Eyes': 'regular', 'Hair': 'hair8', 'Mouth': 'm4', 'Nose': 'n1', 'tokenId': 0}, {'Face': 'White', 'Ears': 'ears3', 'Eyes': 'small', 'Hair': 'hair1', 'Mouth': 'm4', 'Nose': 'n1', 'tokenId': 0}, {'Face': 'Black', 'Ears': 'ears2', 'Eyes': 'regular', 'Hair': 'hair2', 'Mouth': 'm2', 'Nose': 'n1', 'tokenId': 0}, {'Face': 'White', 'Ears': 'ears1', 'Eyes': 'small', 'Hair': 'hair5', 'Mouth': 'm5', 'Nose': 'n1', 'tokenId': 0}, {'Face': 'White', 'Ears': 'ears1', 'Eyes': 'regular', 'Hair': 'hair12', 'Mouth': 'm5', 'Nose': 'n1', 'tokenId': 0}, {'Face': 'Black', 'Ears': 'ears3', 'Eyes': 'regular', 'Hair': 'hair3', 'Mouth': 'm1', 'Nose': 'n1', 'tokenId': 0}, {'Face': 'White', 'Ears': 'ears3', 'Eyes': 'regular', 'Hair': 'hair11', 'Mouth': 'm4', 'Nose': 'n1', 'tokenId': 0}, {'Face': 'Black', 'Ears': 'ears2', 'Eyes': 'focused', 'Hair': 'hair1', 'Mouth': 'm3', 'Nose': 'n1', 'tokenId': 0}, {'Face': 'White', 'Ears': 'ears3', 'Eyes': 'regular', 'Hair': 'hair12', 'Mouth': 'm2', 'Nose': 'n2', 'tokenId': 0}, {'Face': 'Black', 'Ears': 'ears2', 'Eyes': 'regular', 'Hair': 'hair7', 'Mouth': 'm2', 'Nose': 'n1', 'tokenId': 0}, {'Face': 'Black', 'Ears': 'ears1', 'Eyes': 'regular', 'Hair': 'hair5', 'Mouth': 'm1', 'Nose': 'n1', 'tokenId': 0}, {'Face': 'White', 'Ears': 'ears1', 'Eyes': 'regular', 'Hair': 'hair4', 'Mouth': 'm3', 'Nose': 'n1', 'tokenId': 0}, {'Face': 'Black', 'Ears': 'ears1', 'Eyes': 'regular', 'Hair': 'hair9', 'Mouth': 'm2', 'Nose': 'n1', 'tokenId': 0}, {'Face': 'White', 'Ears': 'ears1', 'Eyes': 'regular', 'Hair': 'hair12', 'Mouth': 'm3', 'Nose': 'n1', 'tokenId': 0}, {'Face': 'White', 'Ears': 'ears3', 'Eyes': 'regular', 'Hair': 'hair1', 'Mouth': 'm1', 'Nose': 'n1', 'tokenId': 0}, {'Face': 'White', 'Ears': 'ears4', 'Eyes': 'regular', 'Hair': 'hair1', 'Mouth': 'm3', 'Nose': 'n2', 'tokenId': 0}, {'Face': 'White', 'Ears': 'ears3', 'Eyes': 'small', 'Hair': 'hair2', 'Mouth': 'm1', 'Nose': 'n2', 'tokenId': 0}, {'Face': 'White', 'Ears': 'ears1', 'Eyes': 'regular', 'Hair': 'hair1', 'Mouth': 'm4', 'Nose': 'n1', 'tokenId': 0}, {'Face': 'Black', 'Ears': 'ears1', 'Eyes': 'regular', 'Hair': 'hair2', 'Mouth': 'm6', 'Nose': 'n1', 'tokenId': 0}, {'Face': 'White', 'Ears': 'ears2', 'Eyes': 'regular', 'Hair': 'hair10', 'Mouth': 'm3', 'Nose': 'n2', 'tokenId': 0}, {'Face': 'Black', 'Ears': 'ears3', 'Eyes': 'regular', 'Hair': 'hair6', 'Mouth': 'm3', 'Nose': 'n2', 'tokenId': 0}, {'Face': 'White', 'Ears': 'ears3', 'Eyes': 'regular', 'Hair': 'hair4', 'Mouth': 'm5', 'Nose': 'n1', 'tokenId': 0}, {'Face': 'White', 'Ears': 'ears3', 'Eyes': 'regular', 'Hair': 'hair2', 'Mouth': 'm5', 'Nose': 'n1', 'tokenId': 0}]\n",
      "Are all images unique? True\n"
     ]
    }
   ],
   "source": [
    "i = 0 \n",
    "for item in all_images: item[\"tokenId\"] = i \n",
    "i = i + 1 \n",
    "print(all_images) \n",
    "\n",
    "print(\"Are all images unique?\", all_images_unique(all_images))\n",
    "\n",
    "\n"
   ]
  },
  {
   "cell_type": "code",
   "execution_count": 6,
   "metadata": {},
   "outputs": [
    {
     "name": "stdout",
     "output_type": "stream",
     "text": [
      "{'White': 0, 'Black': 0}\n",
      "{'White': 58, 'Black': 42}\n",
      "{'ears1': 0, 'ears2': 0, 'ears3': 1, 'ears4': 0}\n",
      "{'regular': 1, 'small': 0, 'rayban': 0, 'hipster': 0, 'focused': 0}\n",
      "{'hair1': 0, 'hair10': 0, 'hair11': 0, 'hair12': 0, 'hair2': 1, 'hair3': 0, 'hair4': 0, 'hair5': 0, 'hair6': 0, 'hair7': 0, 'hair8': 0, 'hair9': 0}\n",
      "{'m1': 0, 'm2': 0, 'm3': 0, 'm4': 0, 'm5': 1, 'm6': 0}\n",
      "{'n1': 1, 'n2': 0}\n"
     ]
    }
   ],
   "source": [
    "face_count = {}\n",
    "for item in face:\n",
    "    face_count[item] = 0\n",
    "\n",
    "print(face_count)\n",
    "face_count = {} \n",
    "for item in face: face_count[item] = 0\n",
    "\n",
    "ears_count = {} \n",
    "for item in ears: ears_count[item] = 0\n",
    "\n",
    "eyes_count = {} \n",
    "for item in eyes: eyes_count[item] = 0\n",
    "\n",
    "hair_count = {} \n",
    "for item in hair: hair_count[item] = 0\n",
    "\n",
    "mouth_count = {} \n",
    "for item in mouth: mouth_count[item] = 0\n",
    "\n",
    "nose_count = {} \n",
    "for item in nose: nose_count[item] = 0\n",
    "\n",
    "for image in all_images: face_count[image[\"Face\"]] += 1 \n",
    "ears_count[image[\"Ears\"]] += 1 \n",
    "eyes_count[image[\"Eyes\"]] += 1 \n",
    "hair_count[image[\"Hair\"]] += 1 \n",
    "mouth_count[image[\"Mouth\"]] += 1 \n",
    "nose_count[image[\"Nose\"]] += 1\n",
    "\n",
    "print(face_count) \n",
    "print(ears_count) \n",
    "print(eyes_count) \n",
    "print(hair_count) \n",
    "print(mouth_count) \n",
    "print(nose_count)"
   ]
  },
  {
   "cell_type": "code",
   "execution_count": 7,
   "metadata": {},
   "outputs": [
    {
     "data": {
      "text/plain": [
       "{'Face': 'White',\n",
       " 'Ears': 'ears2',\n",
       " 'Eyes': 'focused',\n",
       " 'Hair': 'hair10',\n",
       " 'Mouth': 'm3',\n",
       " 'Nose': 'n1',\n",
       " 'tokenId': 0}"
      ]
     },
     "execution_count": 7,
     "metadata": {},
     "output_type": "execute_result"
    }
   ],
   "source": [
    "all_images[10]"
   ]
  },
  {
   "cell_type": "code",
   "execution_count": 16,
   "metadata": {},
   "outputs": [],
   "source": [
    "for item in all_images: \n",
    "    im1 = Image.open(f'./substrapunks-master/scripts/face_parts/face/{face_files[item[\"Face\"]]}.png').convert('RGBA') \n",
    "    im2 = Image.open(f'./substrapunks-master/scripts/face_parts/eyes/{eyes_files[item[\"Eyes\"]]}.png').convert('RGBA')\n",
    "    im3 = Image.open(f'./substrapunks-master/scripts/face_parts/ears/{ears_files[item[\"Ears\"]]}.png').convert('RGBA') \n",
    "    im4 = Image.open(f'./substrapunks-master/scripts/face_parts/hair/{hair_files[item[\"Hair\"]]}.png').convert('RGBA') \n",
    "    im5 = Image.open(f'./substrapunks-master/scripts/face_parts/mouth/{mouth_files[item[\"Mouth\"]]}.png').convert('RGBA') \n",
    "    im6 = Image.open(f'./substrapunks-master/scripts/face_parts/nose/{nose_files[item[\"Nose\"]]}.png').convert('RGBA')\n",
    "    # 建立每一個 composite\n",
    "    com1 = Image.alpha_composite(im1, im2)\n",
    "    com2 = Image.alpha_composite(com1, im3)\n",
    "    com3 = Image.alpha_composite(com2, im4)\n",
    "    com4 = Image.alpha_composite(com3, im5)\n",
    "    com5 = Image.alpha_composite(com4, im6)\n",
    "\n",
    "    # 轉換為 RGB 模式\n",
    "    rgb_im = com5.convert('RGB')\n",
    "    file_name = str(item[\"tokenId\"]) + \".png\"\n",
    "    rgb_im.save(\"./images/\" + file_name)\n",
    "    print(item)\n",
    "\n",
    "                     "
   ]
  },
  {
   "cell_type": "code",
   "execution_count": null,
   "metadata": {},
   "outputs": [],
   "source": []
  }
 ],
 "metadata": {
  "kernelspec": {
   "display_name": "Python 3",
   "language": "python",
   "name": "python3"
  },
  "language_info": {
   "codemirror_mode": {
    "name": "ipython",
    "version": 3
   },
   "file_extension": ".py",
   "mimetype": "text/x-python",
   "name": "python",
   "nbconvert_exporter": "python",
   "pygments_lexer": "ipython3",
   "version": "3.7.3"
  }
 },
 "nbformat": 4,
 "nbformat_minor": 2
}
